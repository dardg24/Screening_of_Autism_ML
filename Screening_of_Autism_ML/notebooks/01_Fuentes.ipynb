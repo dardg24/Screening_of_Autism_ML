{
 "cells": [
  {
   "cell_type": "markdown",
   "metadata": {},
   "source": [
    "## Fuentes:"
   ]
  },
  {
   "cell_type": "markdown",
   "metadata": {},
   "source": [
    "La fuente viene de Kaggle, sugiero visitar el siguiente [link](https://www.kaggle.com/datasets/imrankhan77/autistic-children-facial-data-set/data) para observar los distintos códigos y además acceder a las imagenes para entrenar el modelo, también dispone de un modelo preentrenado."
   ]
  },
  {
   "cell_type": "markdown",
   "metadata": {},
   "source": []
  }
 ],
 "metadata": {
  "kernelspec": {
   "display_name": "Python 3",
   "language": "python",
   "name": "python3"
  },
  "language_info": {
   "name": "python",
   "version": "3.11.4"
  }
 },
 "nbformat": 4,
 "nbformat_minor": 2
}
